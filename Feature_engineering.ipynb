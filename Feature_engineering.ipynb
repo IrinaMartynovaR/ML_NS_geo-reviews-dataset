{
 "cells": [
  {
   "cell_type": "code",
   "execution_count": null,
   "id": "b49e95c6",
   "metadata": {},
   "outputs": [],
   "source": [
    "# pip install pandas jupyter pandarallel requests tqdm"
   ]
  },
  {
   "cell_type": "code",
   "execution_count": 45,
   "id": "cbdab20a",
   "metadata": {},
   "outputs": [],
   "source": [
    "import pandas as pd\n",
    "import numpy as np\n",
    "import seaborn as sns\n",
    "import random\n",
    "import seaborn as sns\n",
    "import matplotlib.pyplot as plt\n",
    "%matplotlib inline\n",
    "from collections import Counter\n",
    "import re\n",
    "import pandas as pd\n",
    "import requests\n",
    "\n",
    "from tqdm import tqdm\n",
    "tqdm.pandas()\n",
    "\n",
    "from pandarallel import pandarallel\n",
    "pandarallel.initialize(progress_bar=False)\n",
    "!pip install pymorphy2\n",
    "from pymorphy2 import MorphAnalyzer\n",
    "from functools import lru_cache\n",
    "from nltk.corpus import stopwords\n",
    "from nltk.tokenize import word_tokenize\n",
    "\n",
    "from multiprocessing import Pool\n",
    "from tqdm import tqdm\n",
    "\n",
    "import nltk\n",
    "nltk.download('stopwords')\n",
    "\n",
    "from sklearn.feature_extraction.text import TfidfVectorizer\n",
    "from sklearn.linear_model import LogisticRegression\n",
    "import warnings\n",
    "warnings.filterwarnings(\"ignore\")\n",
    "\n",
    "np.random.seed(42)\n",
    "random.seed(42)"
   ]
  },
  {
   "cell_type": "code",
   "execution_count": 31,
   "id": "70d25c6f",
   "metadata": {},
   "outputs": [],
   "source": [
    "# column_names = ['address', 'name', 'rating', 'rubrics', 'text']\n",
    "# df = pd.read_csv('geo-reviews-dataset-2023.tskv', sep='\\t', names=column_names)\n",
    "# df.head()"
   ]
  },
  {
   "cell_type": "code",
   "execution_count": 32,
   "id": "7090d5e8",
   "metadata": {},
   "outputs": [],
   "source": [
    "# #Инициализируем экземпляр MorphAnalyzer\n",
    "# morph = pymorphy2.MorphAnalyzer(lang='ru')\n",
    "\n",
    "# #Скачаем словарь стоп-слов, который потребуется в функции лемматизации текста\n",
    "# nltk.download('stopwords')\n",
    "# stops = nltk.corpus.stopwords.words('russian')\n",
    "\n",
    "# # Можем также дополнить датасет дополнительными стоп-словами\n",
    "# stops.extend(['address=', 'name_ru=', 'rating=', 'rubrics=', 'text=' 'что', 'это', 'так', 'вот', 'который', 'быть', 'как', 'в', 'к', 'на', 'руб', 'мой', 'твой', 'его', 'её', 'наш', 'ваш', 'их', 'свой', 'еще', 'очень', 'поэтому', 'однако', 'конечно'])\n",
    "# unique_stops = set(stops)\n",
    "\n",
    "# #Объявим функцию для лемматизации текста и выделения частей речи\n",
    "# def extract_nouns(text):\n",
    "#     nouns = []\n",
    "\n",
    "#     #Очищаем текст от лишнего\n",
    "#     clean_text = re.sub(r'\\s+', ' ', re.sub(r'[\\d\\W]', ' ', text))\n",
    "\n",
    "#     # Разбиваем текст на слова\n",
    "#     words = clean_text.split()\n",
    "\n",
    "#     for word in words:\n",
    "#         parsed_word = morph.parse(word)[0]\n",
    "\n",
    "#         # Приводим слово к нормальной форме\n",
    "#         normalized_word = parsed_word.normal_form\n",
    "#         if normalized_word not in unique_stops:\n",
    "\n",
    "#             # Определяем часть речи слова\n",
    "#             pos = parsed_word.tag.POS\n",
    "#             case = parsed_word.tag.case\n",
    "#             anim = parsed_word.tag.animacy\n",
    "\n",
    "#             # Выделяем существительные, но отфильтровываем имена собственные\n",
    "#             if pos == 'NOUN' and not (case == 'nomn' and anim == 'anim'):\n",
    "#                 nouns.append(normalized_word)\n",
    "\n",
    "#     return ' '.join(nouns)\n",
    "\n",
    "# column_names = ['address', 'name', 'rating', 'rubrics', 'text']  \n",
    "# df = pd.read_csv('geo-reviews-dataset-2023.tskv', sep='\\t', names=column_names)\n",
    "# df = df.dropna()  # Удаляем строки с пустыми значениями в столбце 'text'\n",
    "# # Инициализируем tqdm для отслеживания прогресса\n",
    "# tqdm.pandas()\n",
    "\n",
    "# # Применяем extract_nouns к столбцу 'text' с отслеживанием прогресса\n",
    "# df['aspects'] = df['text'].progress_apply(extract_nouns)\n",
    "# df['address'] = df['address'].str.replace('address=', '')\n",
    "# df['name'] = df['name'].str.replace('name_ru=', '')\n",
    "# df['rating'] = df['rating'].str.replace('rating=', '')\n",
    "# df['rubrics'] = df['rubrics'].str.replace('rubrics=', '')\n",
    "# df['text'] = df['text'].str.replace('text=', '')\n",
    "# df.to_csv('all_reviews.csv', index=False)\n"
   ]
  },
  {
   "cell_type": "code",
   "execution_count": 44,
   "id": "cf71ed38",
   "metadata": {},
   "outputs": [],
   "source": [
    "# #Объявим функцию для обработки текстов и сохранения результата анализа\n",
    "# def find_top_words_by_rubric(vectorizer):\n",
    "\n",
    "#     result = {\n",
    "#         'rubrics': [],\n",
    "#         'words': [],\n",
    "#         'reviews': [],\n",
    "#         'scores': []\n",
    "#     }\n",
    "\n",
    "#     #Проходимся по рубрикам\n",
    "#     for rubric in df_flattened['rubrics'].unique():\n",
    "#         texts = df_flattened[df_flattened['rubrics'] == rubric]['aspects']\n",
    "#         total_count = texts.shape[0]\n",
    "\n",
    "#         # В анализ возьмём только те рубрики, у которых есть несколько текстов\n",
    "#         if total_count >= 5:\n",
    "#             tfidf_matrix = vectorizer.fit_transform(texts)\n",
    "#         else:\n",
    "#             continue\n",
    "\n",
    "#         result['rubrics'].append(rubric)\n",
    "#         result['reviews'].append(total_count)\n",
    "#         feature_names = vectorizer.get_feature_names_out()\n",
    "#         tfidf_scores = tfidf_matrix.max(axis=0).toarray().ravel()\n",
    "\n",
    "#         # Возьмём топ-20 слов для каждой рубрики\n",
    "#         top_words_indices = tfidf_scores.argsort()[-20:][::-1]\n",
    "#         top_words = [feature_names[i] for i in top_words_indices]\n",
    "#         result['words'].append(', '.join(top_words))\n",
    "#         top_scores = [str(tfidf_scores[i]) for i in top_words_indices]\n",
    "#         result['scores'].append(', '.join(top_scores))\n",
    "\n",
    "#     return result\n",
    "\n",
    "# # Развернём датасет по рубрикам, так как одна организация может принадлежать к списку рубрик\n",
    "# #df['rubrics'] = df['rubrics'].apply(lambda x: x.split(\";\"))\n",
    "# df_flattened  = df.explode('rubrics')\n",
    "\n",
    "# # Инициализируем TF-IDF-векторизатор\n",
    "# aspects_vectorizer = TfidfVectorizer(use_idf = True, max_df = 0.8, min_df = 0.1)\n",
    "\n",
    "# # Создадим датафрейм с результатами анализа\n",
    "# tf_idf_aspects = pd.DataFrame(find_top_words_by_rubric(aspects_vectorizer)).sort_values(by='reviews', ascending=False)"
   ]
  },
  {
   "cell_type": "code",
   "execution_count": 2,
   "id": "c1ea749d",
   "metadata": {},
   "outputs": [],
   "source": [
    "df = pd.read_csv('all_reviews.csv')"
   ]
  },
  {
   "cell_type": "code",
   "execution_count": 3,
   "id": "0ce40bf7",
   "metadata": {
    "scrolled": false
   },
   "outputs": [
    {
     "data": {
      "text/html": [
       "<div>\n",
       "<style scoped>\n",
       "    .dataframe tbody tr th:only-of-type {\n",
       "        vertical-align: middle;\n",
       "    }\n",
       "\n",
       "    .dataframe tbody tr th {\n",
       "        vertical-align: top;\n",
       "    }\n",
       "\n",
       "    .dataframe thead th {\n",
       "        text-align: right;\n",
       "    }\n",
       "</style>\n",
       "<table border=\"1\" class=\"dataframe\">\n",
       "  <thead>\n",
       "    <tr style=\"text-align: right;\">\n",
       "      <th></th>\n",
       "      <th>address</th>\n",
       "      <th>name</th>\n",
       "      <th>rating</th>\n",
       "      <th>rubrics</th>\n",
       "      <th>text</th>\n",
       "      <th>aspects</th>\n",
       "    </tr>\n",
       "  </thead>\n",
       "  <tbody>\n",
       "    <tr>\n",
       "      <th>0</th>\n",
       "      <td>Екатеринбург, ул. Московская / ул. Волгоградск...</td>\n",
       "      <td>Московский квартал</td>\n",
       "      <td>3.0</td>\n",
       "      <td>Жилой комплекс</td>\n",
       "      <td>Московский квартал 2.\\nШумно : летом по ночам ...</td>\n",
       "      <td>квартал лето ночь гонка стройка окно этаж райо...</td>\n",
       "    </tr>\n",
       "    <tr>\n",
       "      <th>1</th>\n",
       "      <td>Московская область, Электросталь, проспект Лен...</td>\n",
       "      <td>Продукты Ермолино</td>\n",
       "      <td>5.0</td>\n",
       "      <td>Магазин продуктов;Продукты глубокой заморозки;...</td>\n",
       "      <td>Замечательная сеть магазинов в общем, хороший ...</td>\n",
       "      <td>сеть магазин ассортимент цена главное качество...</td>\n",
       "    </tr>\n",
       "    <tr>\n",
       "      <th>2</th>\n",
       "      <td>Краснодар, Прикубанский внутригородской округ,...</td>\n",
       "      <td>LimeFit</td>\n",
       "      <td>1.0</td>\n",
       "      <td>Фитнес-клуб</td>\n",
       "      <td>Не знаю смутят ли кого-то данные правила, но я...</td>\n",
       "      <td>правило шкаф замочка отпечаток палец дичь подп...</td>\n",
       "    </tr>\n",
       "    <tr>\n",
       "      <th>3</th>\n",
       "      <td>Санкт-Петербург, проспект Энгельса, 111, корп. 1</td>\n",
       "      <td>Snow-Express</td>\n",
       "      <td>4.0</td>\n",
       "      <td>Пункт проката;Прокат велосипедов;Сапсёрфинг</td>\n",
       "      <td>Хорошие условия аренды. \\nДружелюбный персонал...</td>\n",
       "      <td>условие аренда персонал ботинок крепление сноу...</td>\n",
       "    </tr>\n",
       "    <tr>\n",
       "      <th>4</th>\n",
       "      <td>Тверь, Волоколамский проспект, 39</td>\n",
       "      <td>Студия Beauty Brow</td>\n",
       "      <td>5.0</td>\n",
       "      <td>Салон красоты;Визажисты, стилисты;Салон бровей...</td>\n",
       "      <td>Топ мастер Ангелина топ во всех смыслах ) Немн...</td>\n",
       "      <td>топ топ смысл посещение бровь ресница итог раб...</td>\n",
       "    </tr>\n",
       "  </tbody>\n",
       "</table>\n",
       "</div>"
      ],
      "text/plain": [
       "                                             address                name  \\\n",
       "0  Екатеринбург, ул. Московская / ул. Волгоградск...  Московский квартал   \n",
       "1  Московская область, Электросталь, проспект Лен...   Продукты Ермолино   \n",
       "2  Краснодар, Прикубанский внутригородской округ,...             LimeFit   \n",
       "3   Санкт-Петербург, проспект Энгельса, 111, корп. 1        Snow-Express   \n",
       "4                  Тверь, Волоколамский проспект, 39  Студия Beauty Brow   \n",
       "\n",
       "   rating                                            rubrics  \\\n",
       "0     3.0                                     Жилой комплекс   \n",
       "1     5.0  Магазин продуктов;Продукты глубокой заморозки;...   \n",
       "2     1.0                                        Фитнес-клуб   \n",
       "3     4.0        Пункт проката;Прокат велосипедов;Сапсёрфинг   \n",
       "4     5.0  Салон красоты;Визажисты, стилисты;Салон бровей...   \n",
       "\n",
       "                                                text  \\\n",
       "0  Московский квартал 2.\\nШумно : летом по ночам ...   \n",
       "1  Замечательная сеть магазинов в общем, хороший ...   \n",
       "2  Не знаю смутят ли кого-то данные правила, но я...   \n",
       "3  Хорошие условия аренды. \\nДружелюбный персонал...   \n",
       "4  Топ мастер Ангелина топ во всех смыслах ) Немн...   \n",
       "\n",
       "                                             aspects  \n",
       "0  квартал лето ночь гонка стройка окно этаж райо...  \n",
       "1  сеть магазин ассортимент цена главное качество...  \n",
       "2  правило шкаф замочка отпечаток палец дичь подп...  \n",
       "3  условие аренда персонал ботинок крепление сноу...  \n",
       "4  топ топ смысл посещение бровь ресница итог раб...  "
      ]
     },
     "execution_count": 3,
     "metadata": {},
     "output_type": "execute_result"
    }
   ],
   "source": [
    "df.head()"
   ]
  },
  {
   "cell_type": "markdown",
   "id": "27e6040e",
   "metadata": {},
   "source": [
    "Уберем знаки переноса строки из текста"
   ]
  },
  {
   "cell_type": "code",
   "execution_count": 8,
   "id": "b7d44cc1",
   "metadata": {},
   "outputs": [
    {
     "data": {
      "text/plain": [
       "0"
      ]
     },
     "execution_count": 8,
     "metadata": {},
     "output_type": "execute_result"
    }
   ],
   "source": [
    "def clean_text(row):\n",
    "        return re.sub(r'\\\\|n', '', row)\n",
    "\n",
    "df['text'] = df['text'].apply(lambda x: clean_text(x))\n",
    "df.text.isnull().sum()"
   ]
  },
  {
   "cell_type": "markdown",
   "id": "d0017231",
   "metadata": {},
   "source": [
    "Обработаем адресса и выделим регионы:"
   ]
  },
  {
   "cell_type": "code",
   "execution_count": 11,
   "id": "297e7487",
   "metadata": {},
   "outputs": [],
   "source": [
    "# Оставим только название населенных пунктов\n",
    "def extract_words_before_comma(text):\n",
    "    match = re.match(r'^([^,]+)', text)\n",
    "    return match.group(1).strip() if match else \"\"\n",
    "\n",
    "df['address'] = df['address'].apply(extract_words_before_comma)\n",
    "\n",
    "df.loc[df['address'] == '', 'address'] = 'Москва'\n",
    "df.loc[(df['address'] == 'Ярославское шоссе') & (df['name'] == 'Охотник Рыболов'), 'address'] = 'Москва'\n",
    "df.loc[(df['address'] == 'Россия') & (df['name'] == 'Сырберис'), 'address'] = 'Санкт-Петербург'\n",
    "df.loc[(df['address'] == 'Россия') & (df['name'] == 'Алтан'), 'address'] = 'Алтайский край'\n",
    "df.loc[df['address'] == 'Барнаул', 'address'] = 'Алтайский край'\n",
    "df.loc[df['address'] == 'г. Ярославская область', 'address'] = 'Ярославская область'\n",
    "df.drop(df[(df['address'] == 'Минск') | (df['address'] == 'Окситания')].index, inplace=True)"
   ]
  },
  {
   "cell_type": "code",
   "execution_count": 132,
   "id": "73a4c745",
   "metadata": {},
   "outputs": [],
   "source": [
    "def swap_name(row):\n",
    "    regions = {\n",
    "        'Москва': [r'.*Моск.*','-', '\\u200bММосква5 1705 километр','Russian Federation','Серпухов', \n",
    "                   'Республика Крымское шоссе', 'Киевское шоссе', 'национальный парк Лосиный остров', \n",
    "                   'паромная переправа № 1', 'шоссе Энтузиастов', 'Симферопольское шоссе','Р-119', \n",
    "                   'природно-исторический парк Кузьминки-Люблино','Угличское водохранилище','Новосходненское шоссе',\n",
    "                   'Российская Федерация', 'Мещерский парк','Россиия','Росси','iМосквая','iРоссия'],\n",
    "        'Санкт-Петербург': [r'.*Санкт-Петерб.*', 'Санкт-Петербург','St. Petersburg','.*Ленингр.*', \n",
    "                            'АМосква181 Скандинавия', 'Гладышев','г. Санкт-Петербург','АМосква121 Сортавала', \n",
    "                            '.*государственный.*', 'СанĸтМоскваПетербург','СанктМоскваПетербург','енинградская обл.'],\n",
    "        'Магаданская область': [r'.*Мага.*', 'посёлок городского типа Сокол'],\n",
    "        'Республика Саха(Якутия)': [r'.*\\s*Якут\\s*.*', 'Republic of Sakha \\(Yakutia\\)'],\n",
    "        'Чеченская Республика': ['Chechen Republic', 'Грозный'],\n",
    "        'Саратовская область': ['Р-228', '.*Сарат.*', 'РМосква228','Приволжская железная дорога'],\n",
    "        'Краснодарский край': ['.*Краснод.*', 'Сочи', 'Адлер','Новороссийск', 'Красноармейский район', 'Белореченск ул. Ленина', 'iРоссия', 'Архипо-Осиповка', 'посёлок городского типа Сириус'],\n",
    "        'Тюменская область': ['.*Тюмен.*'],\n",
    "        'Тверская область': ['.*Твер.*'],\n",
    "        'Смоленская область': ['.*Смолен.*'],\n",
    "        'Архангельская область': ['.*Арханг.*'],\n",
    "        'Карачаево-Черкесская Республика': ['.*Карач.*', 'Теберда', 'курортный посёлок Домбай'],\n",
    "        'Липецкая область': ['.*Липец.*', 'Елец'],\n",
    "        'Томская область': ['.*Томск.*'],\n",
    "        'Нижегородская область': ['.*Ниж.*', '.*Nizhn.*'],\n",
    "        'Самарская область': ['.*Самар.*', 'Рачейский бор'],\n",
    "        'Хабаровский край': ['.*Хаба.*','Far Eastern Railway'],\n",
    "        'Оренбургская область': ['.*Оренбург.*', '.*Орск.*'],\n",
    "        'Тамбовская область': ['.*Тамбо.*', 'городской округ Тамбов'],\n",
    "        'Ханты-Мансийский автономный округ': ['.*Хант.*', 'ХМАО'],\n",
    "        'Рязанская область': ['.*Ряза.*'],\n",
    "        'Тульская область': ['.*Тул.*'],\n",
    "        'Новосибирская область': ['.*Новосиб.*', 'РМосква254 Иртыш','Р-254 Иртыш', 'село Новолуговое'],\n",
    "        'Вологодская область': ['.*Волог.*'],\n",
    "        'Калужская область': ['.*Калу.*'],\n",
    "        'Сочи': ['.*Росси.*'],\n",
    "        'Ростовская область': ['.*Росто.*', 'Европейский маршрут E50'],\n",
    "        'Амурская область': ['.*Амурск.*', 'Благовещенск'],\n",
    "        'Кировская область': ['.*Киров.*'],\n",
    "        'Северная Осетия': ['.*Осет.*', 'РМосква217 Кавказ','Северная Осетия Кавказ', 'Р-217', 'Владикавказ'],\n",
    "        'Ярославская область': ['.*Яросла.*', 'Горьковское водохранилище', 'паромная переправа Мышкин – Коровино', \n",
    "                                'г\\. Ярославская область', 'Переславль-Залесский'],\n",
    "        'Волгоградская область': ['.*Волго.*','Азиатский маршрут АН4'],\n",
    "        'Пензенская область': ['.*Пенз.*'],\n",
    "        'Республика Татарстан': ['.*Тата.*', 'Казань', '425200','.*Куйбыш.*'],\n",
    "        'Орловская область': ['.*Орл.*', '.*Ор[её].*'],\n",
    "        'Пермский край': ['.*Перм.*'],\n",
    "        'Иркутская область': ['.*Ирку.*', 'РМосква255 Сибирь','Р-255 Сибирь', 'Р-258 Байкал','РМосква258 Байкал'],\n",
    "        'Псковская область': ['.*Пск.*'],\n",
    "        'Воронежская область': ['.*Ворон.*', 'река Усмань', 'Борисоглебск','Воробьёвский район'],\n",
    "        'Омская область': ['.*Омск.*'],\n",
    "        'Красноярский край': ['.*Красно[ят].*'],\n",
    "        'Владимирская область': ['.*Владим.*'],\n",
    "        'Брянская область': ['.*Брянс.*'],\n",
    "        'Костромская область': ['.*Костр.*'],\n",
    "        'Новгородская область': ['.*Новгор.*', 'Старая Русса'],\n",
    "        'Свердловская область': ['.*Свердл.*','60.793733', 'Екатеринбург', 'Асбест'],\n",
    "        'Курганская область': ['.*Кург.*'],\n",
    "        'Челябинская область': ['.*Челяб.*', 'Миасс и Златоуст'],\n",
    "        'Ивановская область': ['.*Ивано.*'],\n",
    "        'Калининградская область': ['.*Калинин.*'],\n",
    "        'Белгородская область': ['.*Белго.*', 'М-2'],\n",
    "        'Удмуртская Республика': ['Ижевск'],\n",
    "        'Республика Хакасия': ['.*Хак.*', 'Абакан'],\n",
    "        'Республика Алтай': ['Алтайский район', 'село Алтайское', 'Р-256 Чуйский тракт'],\n",
    "        'Кемеровская область': ['.*Кеме.*'],\n",
    "        'Ямало-Ненецкий автономный округ': ['горный массив Рай-Из', 'Ямальский район'],\n",
    "        'Кабардино-Балкарская Республика': ['Нальчик','КабардиноМоскваБалкарская Республика'],\n",
    "        'Ульяновская область': ['.*Ульян.*'],\n",
    "        'Мурманская область': ['.*Мурм.*', 'Октябрьская железная дорога'],\n",
    "        'Республика Крым': ['Республіка Крим', 'Симферополь', 'Севастополь', 'Феодосия', 'Нахимовский муниципальный округ'],\n",
    "        'Астраханская область': ['Астрахань'],\n",
    "        'Курская область': ['.*Курск.*'],\n",
    "        'Республика Адыгея': ['.*Майкоп.*'],\n",
    "        'Республика Карелия': ['Онежское озеро', 'Питкяранта','РМосква119','Петрозаводск'],\n",
    "        'Республика Мордовия': ['Саранск'],\n",
    "        'Ставропольский край': ['.*Став.*', 'городской округ Ставрополь'],\n",
    "        'Республика Коми': ['Сыктывкар'],\n",
    "        'Республика Бурятия': ['Улан-Удэ','Улан-Удэ'],\n",
    "        'Республика Башкортостан': ['Уфа'],\n",
    "        'Чувашская Республика': ['.*Чебоксары.*'],\n",
    "        'Забайкальский край': ['посёлок городского типа Забайкальск'],\n",
    "    }\n",
    "\n",
    "    for region, patterns in regions.items():\n",
    "        for pattern in patterns:\n",
    "            row = re.sub(pattern, region, row, flags=re.IGNORECASE)\n",
    "\n",
    "    return row\n"
   ]
  },
  {
   "cell_type": "code",
   "execution_count": 133,
   "id": "c8bffcb1",
   "metadata": {},
   "outputs": [
    {
     "name": "stderr",
     "output_type": "stream",
     "text": [
      "100%|██████████| 118216/118216 [00:41<00:00, 2868.20it/s]\n"
     ]
    }
   ],
   "source": [
    "filtered_df['region'] = filtered_df['address'].progress_apply(swap_name)"
   ]
  },
  {
   "cell_type": "markdown",
   "id": "c7947d55",
   "metadata": {},
   "source": [
    "Очистим текст "
   ]
  },
  {
   "cell_type": "code",
   "execution_count": 28,
   "id": "498a5ff8",
   "metadata": {},
   "outputs": [],
   "source": [
    "m = MorphAnalyzer()\n",
    "regex = re.compile(\"[А-Яа-яA-z]+\")\n",
    "\n",
    "def words_only(text, regex=regex):\n",
    "    try:\n",
    "        return regex.findall(text.lower())\n",
    "    except:\n",
    "        return []\n",
    "\n",
    "@lru_cache(maxsize=128)\n",
    "def lemmatize_word(token, pymorphy=m):\n",
    "    return pymorphy.parse(token)[0].normal_form\n",
    "\n",
    "def lemmatize_text(text):\n",
    "    return [lemmatize_word(w) for w in text]\n",
    "\n",
    "\n",
    "mystopwords = stopwords.words('russian') \n",
    "def remove_stopwords(lemmas, stopwords = mystopwords):\n",
    "    return [w for w in lemmas if not w in stopwords and len(w) > 3]\n",
    "\n",
    "def clean_text(text):\n",
    "    tokens = words_only(text)\n",
    "    lemmas = lemmatize_text(tokens)\n",
    "    return ' '.join(remove_stopwords(lemmas))\n",
    "\n",
    "\n",
    "df['cleaned_text'] = df['text'].apply(clean_text)"
   ]
  },
  {
   "cell_type": "code",
   "execution_count": 29,
   "id": "0e4d3a19",
   "metadata": {},
   "outputs": [
    {
     "data": {
      "text/html": [
       "<div>\n",
       "<style scoped>\n",
       "    .dataframe tbody tr th:only-of-type {\n",
       "        vertical-align: middle;\n",
       "    }\n",
       "\n",
       "    .dataframe tbody tr th {\n",
       "        vertical-align: top;\n",
       "    }\n",
       "\n",
       "    .dataframe thead th {\n",
       "        text-align: right;\n",
       "    }\n",
       "</style>\n",
       "<table border=\"1\" class=\"dataframe\">\n",
       "  <thead>\n",
       "    <tr style=\"text-align: right;\">\n",
       "      <th></th>\n",
       "      <th>address</th>\n",
       "      <th>name</th>\n",
       "      <th>rating</th>\n",
       "      <th>rubrics</th>\n",
       "      <th>text</th>\n",
       "      <th>aspects</th>\n",
       "      <th>region</th>\n",
       "      <th>cleaned_text</th>\n",
       "    </tr>\n",
       "  </thead>\n",
       "  <tbody>\n",
       "    <tr>\n",
       "      <th>0</th>\n",
       "      <td>Екатеринбург</td>\n",
       "      <td>Московский квартал</td>\n",
       "      <td>3.0</td>\n",
       "      <td>Жилой комплекс</td>\n",
       "      <td>Московский квартал 2.Шумно : летом по ночам ди...</td>\n",
       "      <td>квартал лето ночь гонка стройка окно этаж райо...</td>\n",
       "      <td>Свердловская область</td>\n",
       "      <td>московский квартал шумно лето ночь дикий гонка...</td>\n",
       "    </tr>\n",
       "    <tr>\n",
       "      <th>1</th>\n",
       "      <td>Московская область</td>\n",
       "      <td>Продукты Ермолино</td>\n",
       "      <td>5.0</td>\n",
       "      <td>Магазин продуктов;Продукты глубокой заморозки;...</td>\n",
       "      <td>Замечательная сеть магазинов в общем, хороший ...</td>\n",
       "      <td>сеть магазин ассортимент цена главное качество...</td>\n",
       "      <td>Москва</td>\n",
       "      <td>замечательный сеть магазин общий хороший ассор...</td>\n",
       "    </tr>\n",
       "    <tr>\n",
       "      <th>2</th>\n",
       "      <td>Краснодар</td>\n",
       "      <td>LimeFit</td>\n",
       "      <td>1.0</td>\n",
       "      <td>Фитнес-клуб</td>\n",
       "      <td>Не знаю смутят ли кого-то данные правила, но я...</td>\n",
       "      <td>правило шкаф замочка отпечаток палец дичь подп...</td>\n",
       "      <td>Краснодарский край</td>\n",
       "      <td>знать смутить дать правило удивить хотеть твой...</td>\n",
       "    </tr>\n",
       "    <tr>\n",
       "      <th>3</th>\n",
       "      <td>Санкт-Петербург</td>\n",
       "      <td>Snow-Express</td>\n",
       "      <td>4.0</td>\n",
       "      <td>Пункт проката;Прокат велосипедов;Сапсёрфинг</td>\n",
       "      <td>Хорошие условия аренды. Дружелюбный персонал.Н...</td>\n",
       "      <td>условие аренда персонал ботинок крепление сноу...</td>\n",
       "      <td>СанктМоскваПетербург</td>\n",
       "      <td>хороший условие аренда дружелюбный персонал бы...</td>\n",
       "    </tr>\n",
       "    <tr>\n",
       "      <th>4</th>\n",
       "      <td>Тверь</td>\n",
       "      <td>Студия Beauty Brow</td>\n",
       "      <td>5.0</td>\n",
       "      <td>Салон красоты;Визажисты, стилисты;Салон бровей...</td>\n",
       "      <td>Топ мастер Ангелина топ во всех смыслах ) Немн...</td>\n",
       "      <td>топ топ смысл посещение бровь ресница итог раб...</td>\n",
       "      <td>Тверская область</td>\n",
       "      <td>мастер ангелина весь смысл немного волноваться...</td>\n",
       "    </tr>\n",
       "  </tbody>\n",
       "</table>\n",
       "</div>"
      ],
      "text/plain": [
       "              address                name  rating  \\\n",
       "0        Екатеринбург  Московский квартал     3.0   \n",
       "1  Московская область   Продукты Ермолино     5.0   \n",
       "2           Краснодар             LimeFit     1.0   \n",
       "3     Санкт-Петербург        Snow-Express     4.0   \n",
       "4               Тверь  Студия Beauty Brow     5.0   \n",
       "\n",
       "                                             rubrics  \\\n",
       "0                                     Жилой комплекс   \n",
       "1  Магазин продуктов;Продукты глубокой заморозки;...   \n",
       "2                                        Фитнес-клуб   \n",
       "3        Пункт проката;Прокат велосипедов;Сапсёрфинг   \n",
       "4  Салон красоты;Визажисты, стилисты;Салон бровей...   \n",
       "\n",
       "                                                text  \\\n",
       "0  Московский квартал 2.Шумно : летом по ночам ди...   \n",
       "1  Замечательная сеть магазинов в общем, хороший ...   \n",
       "2  Не знаю смутят ли кого-то данные правила, но я...   \n",
       "3  Хорошие условия аренды. Дружелюбный персонал.Н...   \n",
       "4  Топ мастер Ангелина топ во всех смыслах ) Немн...   \n",
       "\n",
       "                                             aspects                region  \\\n",
       "0  квартал лето ночь гонка стройка окно этаж райо...  Свердловская область   \n",
       "1  сеть магазин ассортимент цена главное качество...                Москва   \n",
       "2  правило шкаф замочка отпечаток палец дичь подп...    Краснодарский край   \n",
       "3  условие аренда персонал ботинок крепление сноу...  СанктМоскваПетербург   \n",
       "4  топ топ смысл посещение бровь ресница итог раб...      Тверская область   \n",
       "\n",
       "                                        cleaned_text  \n",
       "0  московский квартал шумно лето ночь дикий гонка...  \n",
       "1  замечательный сеть магазин общий хороший ассор...  \n",
       "2  знать смутить дать правило удивить хотеть твой...  \n",
       "3  хороший условие аренда дружелюбный персонал бы...  \n",
       "4  мастер ангелина весь смысл немного волноваться...  "
      ]
     },
     "execution_count": 29,
     "metadata": {},
     "output_type": "execute_result"
    }
   ],
   "source": [
    "df.head()"
   ]
  },
  {
   "cell_type": "code",
   "execution_count": 33,
   "id": "8832e23b",
   "metadata": {},
   "outputs": [
    {
     "data": {
      "text/plain": [
       "array([3., 5., 1., 4., 2., 0.])"
      ]
     },
     "execution_count": 33,
     "metadata": {},
     "output_type": "execute_result"
    }
   ],
   "source": [
    "df.rating.unique()"
   ]
  },
  {
   "cell_type": "markdown",
   "id": "f0678fcc",
   "metadata": {},
   "source": [
    "Уравняем классы и уменьшим избыточность положительных оценок, сведя все к трем категориям: негативные, нейтральные и позитивные."
   ]
  },
  {
   "cell_type": "code",
   "execution_count": 45,
   "id": "3c7cb2d6",
   "metadata": {},
   "outputs": [],
   "source": [
    "filtered_df_5 = df[df['rating'] == 5].sample(n=50000, random_state=42)\n",
    "filtered_df_others = df[df['rating'] != 5]\n",
    "filtered_df = pd.concat([filtered_df_5, filtered_df_others])\n"
   ]
  },
  {
   "cell_type": "code",
   "execution_count": 46,
   "id": "e0e747ce",
   "metadata": {},
   "outputs": [
    {
     "data": {
      "text/plain": [
       "(array([  200.,     0., 34296.,     0., 12071.,     0., 21652.,     0.,\n",
       "        41116., 50000.]),\n",
       " array([0. , 0.5, 1. , 1.5, 2. , 2.5, 3. , 3.5, 4. , 4.5, 5. ]),\n",
       " <BarContainer object of 10 artists>)"
      ]
     },
     "execution_count": 46,
     "metadata": {},
     "output_type": "execute_result"
    },
    {
     "data": {
      "image/png": "[encoded data removed]",
      "text/plain": [
       "<Figure size 640x480 with 1 Axes>"
      ]
     },
     "metadata": {},
     "output_type": "display_data"
    }
   ],
   "source": [
    "plt.hist(final_df.rating)"
   ]
  },
  {
   "cell_type": "code",
   "execution_count": 58,
   "id": "3ac3a07d",
   "metadata": {},
   "outputs": [],
   "source": [
    "filtered_df['target'] = filtered_df['rating'].astype(int)\n",
    "def grades_cat(row):\n",
    "    if row['target'] == 1 or row['target'] == 0 or row['target'] == 2:\n",
    "        return 0\n",
    "    elif row['target'] == 3:\n",
    "        return 1\n",
    "    else:\n",
    "        return 2\n",
    "filtered_df['target'] = filtered_df.apply(grades_cat, axis = 1)"
   ]
  },
  {
   "cell_type": "code",
   "execution_count": 60,
   "id": "7237024c",
   "metadata": {},
   "outputs": [],
   "source": [
    "filtered_df_2 = filtered_df[filtered_df['target'] == 2].sample(n=50000, random_state=42)\n",
    "filtered_others = filtered_df[filtered_df['target'] != 2]\n",
    "filtered_df = pd.concat([filtered_df_2, filtered_others])"
   ]
  },
  {
   "cell_type": "code",
   "execution_count": 62,
   "id": "44213e63",
   "metadata": {},
   "outputs": [
    {
     "data": {
      "image/png": "[encoded data removed]",
      "text/plain": [
       "<Figure size 600x600 with 1 Axes>"
      ]
     },
     "metadata": {},
     "output_type": "display_data"
    }
   ],
   "source": [
    "filtered_df['target'] = filtered_df['target'].map({0: 'Негативный', 1: 'Нейтральный', 2: 'Позитивный'})\n",
    "df = filtered_df.sort_values(by='target')\n",
    "plt.figure(figsize=(6, 6))\n",
    "sns.countplot(x='target', data=df, palette='gray')\n",
    "plt.xlabel('Метки Классов', fontsize=12)\n",
    "plt.ylabel('Количество', fontsize=12)\n",
    "plt.title('Распределение Классов', fontsize=16)\n",
    "plt.show()\n"
   ]
  },
  {
   "cell_type": "markdown",
   "id": "82cc5473",
   "metadata": {},
   "source": [
    "Расширим признаковое пространство для улучшения ML методов."
   ]
  },
  {
   "cell_type": "code",
   "execution_count": 64,
   "id": "b4e136ee",
   "metadata": {},
   "outputs": [],
   "source": [
    "filtered_df['sym_len'] = filtered_df.cleaned_text.apply(len)\n",
    "filtered_df['word_len'] = filtered_df.cleaned_text.apply(lambda x: len(x.split()))"
   ]
  },
  {
   "cell_type": "code",
   "execution_count": 66,
   "id": "3539a525",
   "metadata": {},
   "outputs": [
    {
     "data": {
      "text/html": [
       "<div>\n",
       "<style scoped>\n",
       "    .dataframe tbody tr th:only-of-type {\n",
       "        vertical-align: middle;\n",
       "    }\n",
       "\n",
       "    .dataframe tbody tr th {\n",
       "        vertical-align: top;\n",
       "    }\n",
       "\n",
       "    .dataframe thead th {\n",
       "        text-align: right;\n",
       "    }\n",
       "</style>\n",
       "<table border=\"1\" class=\"dataframe\">\n",
       "  <thead>\n",
       "    <tr style=\"text-align: right;\">\n",
       "      <th></th>\n",
       "      <th>address</th>\n",
       "      <th>name</th>\n",
       "      <th>rating</th>\n",
       "      <th>rubrics</th>\n",
       "      <th>text</th>\n",
       "      <th>aspects</th>\n",
       "      <th>region</th>\n",
       "      <th>cleaned_text</th>\n",
       "      <th>target</th>\n",
       "      <th>sym_len</th>\n",
       "      <th>word_len</th>\n",
       "    </tr>\n",
       "  </thead>\n",
       "  <tbody>\n",
       "    <tr>\n",
       "      <th>470956</th>\n",
       "      <td>Московская область</td>\n",
       "      <td>Мон Плезир</td>\n",
       "      <td>5.0</td>\n",
       "      <td>Гостиница</td>\n",
       "      <td>Очень хорошая, уютная гостиницаРемонт тут дост...</td>\n",
       "      <td>гостиница nремонт номер количество свет персон...</td>\n",
       "      <td>Москва</td>\n",
       "      <td>очень хороший уютный гостиницаремонт достаточн...</td>\n",
       "      <td>Позитивный</td>\n",
       "      <td>421</td>\n",
       "      <td>48</td>\n",
       "    </tr>\n",
       "    <tr>\n",
       "      <th>9799</th>\n",
       "      <td>Московская область</td>\n",
       "      <td>У Гаго</td>\n",
       "      <td>4.0</td>\n",
       "      <td>Быстрое питание</td>\n",
       "      <td>Заказывали шашлык на работу, всё вкусно и цены...</td>\n",
       "      <td>шашлык работа цена заказ шашлык</td>\n",
       "      <td>Москва</td>\n",
       "      <td>заказывать шашлык работа вкусно цена приемлемы...</td>\n",
       "      <td>Позитивный</td>\n",
       "      <td>133</td>\n",
       "      <td>17</td>\n",
       "    </tr>\n",
       "    <tr>\n",
       "      <th>491629</th>\n",
       "      <td>Москва</td>\n",
       "      <td>Чистая Планета</td>\n",
       "      <td>5.0</td>\n",
       "      <td>Магазин хозтоваров и бытовой химии;Средства ги...</td>\n",
       "      <td>Попробовала протестить пятновыводитель: теперь...</td>\n",
       "      <td>пятновыводитель nкондиционер бельё вид искусство</td>\n",
       "      <td>Москва</td>\n",
       "      <td>попробовать протестить пятновыводитель бояться...</td>\n",
       "      <td>Позитивный</td>\n",
       "      <td>121</td>\n",
       "      <td>12</td>\n",
       "    </tr>\n",
       "    <tr>\n",
       "      <th>101415</th>\n",
       "      <td>Санкт-Петербург</td>\n",
       "      <td>Городская больница Святого Праведного Иоанна К...</td>\n",
       "      <td>5.0</td>\n",
       "      <td>Родильный дом</td>\n",
       "      <td>Рожала тут первую доченьку в 2017 году. Персон...</td>\n",
       "      <td>доченька год персонал роддом стимуляция отделе...</td>\n",
       "      <td>СанктМоскваПетербург</td>\n",
       "      <td>рожать первый доченька персонал очень вежливый...</td>\n",
       "      <td>Позитивный</td>\n",
       "      <td>236</td>\n",
       "      <td>28</td>\n",
       "    </tr>\n",
       "    <tr>\n",
       "      <th>259109</th>\n",
       "      <td>Белгородская область</td>\n",
       "      <td>Линия</td>\n",
       "      <td>5.0</td>\n",
       "      <td>Продуктовый гипермаркет;Универмаг</td>\n",
       "      <td>Ассортимент большой,выбор есть и дешевого сегм...</td>\n",
       "      <td>ассортимент выбор сегмент парковка выпечка коф...</td>\n",
       "      <td>Белгородская область</td>\n",
       "      <td>ассортимент большой выбор дешёвый сегмент доро...</td>\n",
       "      <td>Позитивный</td>\n",
       "      <td>240</td>\n",
       "      <td>31</td>\n",
       "    </tr>\n",
       "  </tbody>\n",
       "</table>\n",
       "</div>"
      ],
      "text/plain": [
       "                     address  \\\n",
       "470956    Московская область   \n",
       "9799      Московская область   \n",
       "491629                Москва   \n",
       "101415       Санкт-Петербург   \n",
       "259109  Белгородская область   \n",
       "\n",
       "                                                     name  rating  \\\n",
       "470956                                         Мон Плезир     5.0   \n",
       "9799                                               У Гаго     4.0   \n",
       "491629                                     Чистая Планета     5.0   \n",
       "101415  Городская больница Святого Праведного Иоанна К...     5.0   \n",
       "259109                                              Линия     5.0   \n",
       "\n",
       "                                                  rubrics  \\\n",
       "470956                                          Гостиница   \n",
       "9799                                      Быстрое питание   \n",
       "491629  Магазин хозтоваров и бытовой химии;Средства ги...   \n",
       "101415                                      Родильный дом   \n",
       "259109                  Продуктовый гипермаркет;Универмаг   \n",
       "\n",
       "                                                     text  \\\n",
       "470956  Очень хорошая, уютная гостиницаРемонт тут дост...   \n",
       "9799    Заказывали шашлык на работу, всё вкусно и цены...   \n",
       "491629  Попробовала протестить пятновыводитель: теперь...   \n",
       "101415  Рожала тут первую доченьку в 2017 году. Персон...   \n",
       "259109  Ассортимент большой,выбор есть и дешевого сегм...   \n",
       "\n",
       "                                                  aspects  \\\n",
       "470956  гостиница nремонт номер количество свет персон...   \n",
       "9799                      шашлык работа цена заказ шашлык   \n",
       "491629   пятновыводитель nкондиционер бельё вид искусство   \n",
       "101415  доченька год персонал роддом стимуляция отделе...   \n",
       "259109  ассортимент выбор сегмент парковка выпечка коф...   \n",
       "\n",
       "                      region  \\\n",
       "470956                Москва   \n",
       "9799                  Москва   \n",
       "491629                Москва   \n",
       "101415  СанктМоскваПетербург   \n",
       "259109  Белгородская область   \n",
       "\n",
       "                                             cleaned_text      target  \\\n",
       "470956  очень хороший уютный гостиницаремонт достаточн...  Позитивный   \n",
       "9799    заказывать шашлык работа вкусно цена приемлемы...  Позитивный   \n",
       "491629  попробовать протестить пятновыводитель бояться...  Позитивный   \n",
       "101415  рожать первый доченька персонал очень вежливый...  Позитивный   \n",
       "259109  ассортимент большой выбор дешёвый сегмент доро...  Позитивный   \n",
       "\n",
       "        sym_len  word_len  \n",
       "470956      421        48  \n",
       "9799        133        17  \n",
       "491629      121        12  \n",
       "101415      236        28  \n",
       "259109      240        31  "
      ]
     },
     "execution_count": 66,
     "metadata": {},
     "output_type": "execute_result"
    }
   ],
   "source": [
    "filtered_df.head()"
   ]
  },
  {
   "cell_type": "code",
   "execution_count": 67,
   "id": "55df698e",
   "metadata": {},
   "outputs": [],
   "source": [
    "#ищем существительные\n",
    "def count_nouns(sentence):\n",
    "    words = word_tokenize(sentence, language='russian')\n",
    "    morph = MorphAnalyzer()\n",
    "    nouns_count = sum(1 for word in words if 'NOUN' in morph.parse(word)[0].tag)\n",
    "    return nouns_count\n",
    "filtered_df['nouns_count'] = filtered_df['cleaned_text'].apply(count_nouns)"
   ]
  },
  {
   "cell_type": "code",
   "execution_count": 4,
   "id": "13e55dec",
   "metadata": {},
   "outputs": [],
   "source": [
    "def count_adverbs(sentence):\n",
    "    from nltk.tokenize import word_tokenize\n",
    "    from pymorphy2 import MorphAnalyzer\n",
    "    words = word_tokenize(sentence, language='russian')\n",
    "    morph = MorphAnalyzer()\n",
    "    adverbs_count = sum(1 for word in words if 'ADVB' in morph.parse(word)[0].tag)\n",
    "    return adverbs_count\n",
    "filtered_df['adverbs_count'] = filtered_df['cleaned_text'].parallel_apply(count_adverbs)"
   ]
  },
  {
   "cell_type": "code",
   "execution_count": 9,
   "id": "f52e998c",
   "metadata": {},
   "outputs": [],
   "source": [
    "def count_adjectives(sentence):\n",
    "    from nltk.tokenize import word_tokenize\n",
    "    from pymorphy2 import MorphAnalyzer\n",
    "    words = word_tokenize(sentence, language='russian')\n",
    "    morph = MorphAnalyzer()\n",
    "    adjectives_count = sum(1 for word in words if 'ADJF' in morph.parse(word)[0].tag)\n",
    "    return adjectives_count\n",
    "filtered_df['adjectives_count'] = filtered_df['cleaned_text'].parallel_apply(count_adjectives)"
   ]
  },
  {
   "cell_type": "code",
   "execution_count": 17,
   "id": "46803eba",
   "metadata": {},
   "outputs": [],
   "source": [
    "filtered_df['specific_punctuation_count'] = filtered_df['text'].parallel_apply(\n",
    "    lambda x: sum(1 for char in x if char in ':!@)(*?<3:-'))"
   ]
  },
  {
   "cell_type": "code",
   "execution_count": 22,
   "id": "836baf79",
   "metadata": {},
   "outputs": [],
   "source": [
    "filtered_df['uppercase_letters_count'] = filtered_df['text'].parallel_apply(\n",
    "    lambda x: sum(1 for char in x if char.isupper()))\n"
   ]
  },
  {
   "cell_type": "code",
   "execution_count": 31,
   "id": "2e92840e",
   "metadata": {},
   "outputs": [],
   "source": [
    "all_words = [word for words_list in filtered_df['cleaned_text'].str.split() for word in words_list]\n",
    "word_counts = Counter(all_words)\n",
    "sorted_word_counts = word_counts.most_common()"
   ]
  },
  {
   "cell_type": "code",
   "execution_count": 37,
   "id": "f8ad08dc",
   "metadata": {},
   "outputs": [],
   "source": [
    "# Определим порог для редко и часто встречаемых слов \n",
    "threshold_rare = 8\n",
    "threshold_frequent = 5603\n",
    "\n",
    "# Функция для определения редких и частых слов в строке\n",
    "def categorize_words(words):\n",
    "    rare_words = len([word for word in words if word_counts[word] <= threshold_rare])\n",
    "    frequent_words = len([word for word in words if word_counts[word] >= threshold_frequent])\n",
    "    return rare_words, frequent_words\n",
    "\n",
    "# Применим функцию к столбцу 'text' и создадим новые столбцы\n",
    "filtered_df['rare_words'], filtered_df['frequent_words'] = zip(*filtered_df['cleaned_text'].str.split().apply(categorize_words))"
   ]
  },
  {
   "cell_type": "code",
   "execution_count": 2,
   "id": "61f14f3c",
   "metadata": {},
   "outputs": [],
   "source": [
    "df = pd.read_csv('preprocessingf.csv')"
   ]
  },
  {
   "cell_type": "code",
   "execution_count": 37,
   "id": "6b283279",
   "metadata": {},
   "outputs": [],
   "source": [
    "top_words_by_class = {}\n",
    "\n",
    "for target_class in df['target'].unique():\n",
    "    class_df = df[df['target'] == target_class]\n",
    "    class_text = ' '.join(class_df['cleaned_text'])\n",
    "    words = class_text.split()\n",
    "    word_counts = Counter(words)\n",
    "    top_words = word_counts.most_common(80)\n",
    "    top_words_by_class[target_class] = top_words\n",
    "    top_words_only = [word for word, _ in top_words]    \n",
    "    top_words_by_class[target_class] = top_words_only"
   ]
  },
  {
   "cell_type": "markdown",
   "id": "df452f12",
   "metadata": {},
   "source": [
    "Первые наиболее частые слова будут специфичны для всех классов, уберем их"
   ]
  },
  {
   "cell_type": "code",
   "execution_count": 38,
   "id": "61d14a00",
   "metadata": {},
   "outputs": [],
   "source": [
    "positive = top_words_by_class['Позитивный'][50:]"
   ]
  },
  {
   "cell_type": "code",
   "execution_count": 39,
   "id": "05021179",
   "metadata": {},
   "outputs": [],
   "source": [
    "neutral = top_words_by_class['Нейтральный'][50:]"
   ]
  },
  {
   "cell_type": "code",
   "execution_count": 40,
   "id": "1e456dad",
   "metadata": {},
   "outputs": [],
   "source": [
    "negative = top_words_by_class['Негативный'][50:]"
   ]
  },
  {
   "cell_type": "markdown",
   "id": "41f6117b",
   "metadata": {},
   "source": [
    "первые 15 слов специфичны для всех классов возмем оставшиеся 15"
   ]
  },
  {
   "cell_type": "code",
   "execution_count": 41,
   "id": "b442bec9",
   "metadata": {},
   "outputs": [],
   "source": [
    "df['pos_f'] = df['cleaned_text'].apply(lambda x: 1 if any(word in x for word in positive) else 0)\n",
    "df['negat_f'] = df['cleaned_text'].apply(lambda x: 1 if any(word in x for word in negative) else 0)\n",
    "df['neut_f'] = df['cleaned_text'].apply(lambda x: 1 if any(word in x for word in neutral) else 0)"
   ]
  },
  {
   "cell_type": "code",
   "execution_count": 44,
   "id": "a5df204d",
   "metadata": {},
   "outputs": [],
   "source": [
    "df.to_csv('preprocessingf.csv', index=False)"
   ]
  }
 ],
 "metadata": {
  "kernelspec": {
   "display_name": "Python 3 (ipykernel)",
   "language": "python",
   "name": "python3"
  },
  "language_info": {
   "codemirror_mode": {
    "name": "ipython",
    "version": 3
   },
   "file_extension": ".py",
   "mimetype": "text/x-python",
   "name": "python",
   "nbconvert_exporter": "python",
   "pygments_lexer": "ipython3",
   "version": "3.10.11"
  }
 },
 "nbformat": 4,
 "nbformat_minor": 5
}
